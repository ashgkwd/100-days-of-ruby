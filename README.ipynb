{
 "cells": [
  {
   "cell_type": "markdown",
   "metadata": {},
   "source": [
    "# 100 Days of Ruby 🔥\n",
    "\n",
    "> Start from day 1 and follow along 🚀\n",
    "\n",
    "Everything is written and runnable on Jupyter Notebook with Ruby language. \n",
    "\n",
    "👋🧑‍💻 You can setup your VS Code to support Jupyter with Ruby by reading this article: [How to setup VS Code to run Ruby in Jupyter](https://open.substack.com/pub/ashgaikwad/p/how-to-setup-vs-code-to-use-ruby?r=30riyy&utm_campaign=post&utm_medium=web)"
   ]
  },
  {
   "cell_type": "markdown",
   "metadata": {},
   "source": [
    "## 💎 Day 0 - Serving static files from any directory\n",
    "\n",
    "To serve current folder\n",
    "\n",
    "```sh\n",
    "ruby -run -e httpd .\n",
    "```\n",
    "\n",
    "You can also specify a port number\n",
    "\n",
    "```sh\n",
    "ruby -run -e httpd . -p 8123\n",
    "```\n",
    "\n",
    "You can also specify path of the folder\n",
    "\n",
    "```sh\n",
    "ruby -run -e httpd ~/Downloads\n",
    "```"
   ]
  },
  {
   "cell_type": "markdown",
   "metadata": {},
   "source": [
    "Once you start the server with above command, the output will show you URL that you can visit to see your files and folders. \n",
    "\n",
    "```log\n",
    "[2024-05-15 18:54:41] INFO  WEBrick 1.8.1\n",
    "[2024-05-15 18:54:41] INFO  ruby 3.3.0 (2023-12-25) [arm64-darwin23]\n",
    "[2024-05-15 18:54:41] INFO  WEBrick::HTTPServer#start: pid=24921 port=8090\n",
    "[2024-05-15 18:54:41] INFO  To access this server, open this URL in a browser:\n",
    "[2024-05-15 18:54:41] INFO      http://[::1]:8090\n",
    "[2024-05-15 18:54:41] INFO      http://127.0.0.1:8090\n",
    "```"
   ]
  },
  {
   "cell_type": "markdown",
   "metadata": {},
   "source": [
    "## 💎 Day 1 - Get the latest Programmer Humor meme\n",
    "\n",
    "> This small tiny program will fetch the latest meme from eveyone's benoloved meme community [ProgrammerHumor](https://programmerhumor.io/)\n",
    "\n",
    "You may want to ensure that we have `nokogiri` available. This can be done through Ruby's dependency manager [Bundler](https://bundler.io/).\n",
    "\n",
    "```sh\n",
    "bundle i\n",
    "```"
   ]
  },
  {
   "cell_type": "code",
   "execution_count": 2,
   "metadata": {},
   "outputs": [
    {
     "data": {
      "text/html": [
       "<img src=\"https://programmerhumor.io/wp-content/uploads/2024/05/programmerhumor-io-programming-memes-7050406b92cdfb5.jpe\" />"
      ],
      "text/plain": [
       "\"<img src=\\\"https://programmerhumor.io/wp-content/uploads/2024/05/programmerhumor-io-programming-memes-7050406b92cdfb5.jpe\\\" />\""
      ]
     },
     "execution_count": 2,
     "metadata": {},
     "output_type": "execute_result"
    }
   ],
   "source": [
    "require 'open-uri'\n",
    "require 'nokogiri'\n",
    "\n",
    "# Fetch and parse the HTML document\n",
    "doc = Nokogiri::HTML(URI.open('https://programmerhumor.io/'))\n",
    "\n",
    "# Find the first <img> tag inside the first <div> with class 'entry-featured-media'\n",
    "img_tag = doc.at_css('.entry-featured-media img')\n",
    "\n",
    "# Output the result as an image on Jupyter Notebook\n",
    "IRuby.html(%(<img src=\"#{img_tag['data-src']}\" />))"
   ]
  },
  {
   "cell_type": "markdown",
   "metadata": {},
   "source": [
    "# 💎 Day 2 - One line method definition\n",
    "\n",
    "> Also known as endless method definition 🍳\n",
    "\n",
    "Ensure that you have latest Ruby version. I tried this on Ruby 3.3.1 🔥"
   ]
  },
  {
   "cell_type": "code",
   "execution_count": 3,
   "metadata": {},
   "outputs": [
    {
     "data": {
      "text/plain": [
       "2.00515"
      ]
     },
     "execution_count": 3,
     "metadata": {},
     "output_type": "execute_result"
    }
   ],
   "source": [
    "class Timekeeper\n",
    "  def start = @start = Time.now\n",
    "  def end = @end = Time.now\n",
    "  def duration = @end - @start\n",
    "end\n",
    "\n",
    "tk = Timekeeper.new\n",
    "tk.start\n",
    "sleep 2\n",
    "tk.end\n",
    "tk.duration"
   ]
  },
  {
   "cell_type": "markdown",
   "metadata": {},
   "source": [
    "# 💎 Day 3 - Ractor: a parallel execution without thread-safety concerns\n",
    "\n",
    "> Ruby’s Actor-like concurrent abstraction\n",
    "Ractor is designed to provide a parallel execution feature of Ruby without thread-safety concerns.\n"
   ]
  },
  {
   "cell_type": "code",
   "execution_count": 3,
   "metadata": {},
   "outputs": [
    {
     "data": {
      "text/plain": [
       "144"
      ]
     },
     "execution_count": 3,
     "metadata": {},
     "output_type": "execute_result"
    }
   ],
   "source": [
    "square = Ractor.new do \n",
    "  a = Ractor.receive\n",
    "  a * a\n",
    "end\n",
    "square.send 12\n",
    "square.take"
   ]
  },
  {
   "cell_type": "markdown",
   "metadata": {},
   "source": [
    "# 💎 Day 4 - SecureRandom\n",
    "\n",
    "> An interface to secure random number generators which are suitable for generating session keys in HTTP cookies, resource IDs, etc"
   ]
  },
  {
   "cell_type": "code",
   "execution_count": 5,
   "metadata": {},
   "outputs": [
    {
     "data": {
      "text/plain": [
       "\"OdGonBQe36ODc8Is\""
      ]
     },
     "execution_count": 5,
     "metadata": {},
     "output_type": "execute_result"
    }
   ],
   "source": [
    "require 'securerandom' # standard Ruby lib\n",
    "\n",
    "SecureRandom.alphanumeric"
   ]
  },
  {
   "cell_type": "code",
   "execution_count": 41,
   "metadata": {},
   "outputs": [
    {
     "name": "stdout",
     "output_type": "stream",
     "text": [
      "Generate random bytes\n",
      "\"\\xD0o~\\xD6\\x84 \\x04\\xD6\\x13\\xFC\\xD92Wy/\\xDA\\x91\\xC0\\x8E\\xCE<[\"\n"
     ]
    },
    {
     "data": {
      "text/plain": [
       "\"K\\xD2\\xD3f\\f\\xF4\\xEB\\x01\\xD6e\\x06\\x9B\\xCC\\xC0\\x16\\x8C\\x93J\\x06r\\xCF\\x17\""
      ]
     },
     "execution_count": 41,
     "metadata": {},
     "output_type": "execute_result"
    }
   ],
   "source": [
    "# We can also do\n",
    "\n",
    "some_length = 22\n",
    "\n",
    "puts \"Generate random bytes\"\n",
    "p SecureRandom.gen_random(some_length)\n",
    "SecureRandom.random_bytes(some_length)"
   ]
  },
  {
   "cell_type": "code",
   "execution_count": 43,
   "metadata": {},
   "outputs": [
    {
     "name": "stdout",
     "output_type": "stream",
     "text": [
      "{\"UUID\"=>\"f1252001-16ac-4c7a-9d33-e97210932639\",\n",
      " \"Number\"=>0.670535973382727,\n",
      " \"Alpha and number\"=>\"0LIoUivkIhArQfGy\"}\n",
      "{\"hex\"=>\"dfaf64aea2f38cf001df4027962f931a\",\n",
      " \"hex specific length\"=>\"0529149178c183a8d691f54db95e529d118d4cf0b6dc\"}\n",
      "{\"Base64\"=>\"rhrlm7WBfyF6MHPhJHIppw==\",\n",
      " \"Base64 specific length\"=>\"sN/QdckFxOb+tKlY9wApG6lPSDng7Q==\",\n",
      " \"Base64 urlsafe variant\"=>\"i4g03kf1NC7w629xnGtJag\",\n",
      " \"Base64 urlsafe with specific length\"=>\"Jb2Q2bFMVidrAzIxqq45tvT7PEMacw\"}\n"
     ]
    },
    {
     "data": {
      "text/plain": [
       "[{\"UUID\"=>\"f1252001-16ac-4c7a-9d33-e97210932639\", \"Number\"=>0.670535973382727, \"Alpha and number\"=>\"0LIoUivkIhArQfGy\"}, {\"hex\"=>\"dfaf64aea2f38cf001df4027962f931a\", \"hex specific length\"=>\"0529149178c183a8d691f54db95e529d118d4cf0b6dc\"}, {\"Base64\"=>\"rhrlm7WBfyF6MHPhJHIppw==\", \"Base64 specific length\"=>\"sN/QdckFxOb+tKlY9wApG6lPSDng7Q==\", \"Base64 urlsafe variant\"=>\"i4g03kf1NC7w629xnGtJag\", \"Base64 urlsafe with specific length\"=>\"Jb2Q2bFMVidrAzIxqq45tvT7PEMacw\"}]"
      ]
     },
     "execution_count": 43,
     "metadata": {},
     "output_type": "execute_result"
    }
   ],
   "source": [
    "# few more examples\n",
    "\n",
    "base64_examples = {\n",
    "  'Base64' => SecureRandom.base64,\n",
    "  'Base64 specific length' => SecureRandom.base64(some_length),\n",
    "  'Base64 urlsafe variant' => SecureRandom.urlsafe_base64,\n",
    "  'Base64 urlsafe with specific length' => SecureRandom.urlsafe_base64(some_length)\n",
    "}\n",
    "\n",
    "hex_examples = {\n",
    "  'hex' => SecureRandom.hex,\n",
    "  'hex specific length' => SecureRandom.hex(some_length)\n",
    "}\n",
    "\n",
    "examples = {\n",
    "  'UUID' => SecureRandom.uuid,\n",
    "  'Number' => SecureRandom.random_number,\n",
    "  'Alpha and number' => SecureRandom.alphanumeric\n",
    "}\n",
    "\n",
    "pp examples, hex_examples, base64_examples\n"
   ]
  }
 ],
 "metadata": {
  "kernelspec": {
   "display_name": "Ruby 3.3.1",
   "language": "ruby",
   "name": "ruby"
  },
  "language_info": {
   "file_extension": ".rb",
   "mimetype": "application/x-ruby",
   "name": "ruby",
   "version": "3.3.1"
  }
 },
 "nbformat": 4,
 "nbformat_minor": 4
}
