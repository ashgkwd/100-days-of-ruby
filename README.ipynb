{
 "cells": [
  {
   "cell_type": "markdown",
   "metadata": {},
   "source": [
    "# 100 Days of Ruby 🔥\n",
    "\n",
    "> Start from day 1 and follow along 🚀\n",
    "\n",
    "Everything is written and runnable on Jupyter Notebook with Ruby language. \n",
    "\n",
    "👋🧑‍💻 You can setup your VS Code to support Jupyter with Ruby by reading this article: [How to setup VS Code to run Ruby in Jupyter](https://open.substack.com/pub/ashgaikwad/p/how-to-setup-vs-code-to-use-ruby?r=30riyy&utm_campaign=post&utm_medium=web)"
   ]
  },
  {
   "cell_type": "markdown",
   "metadata": {},
   "source": [
    "## 💎 Day 0 - Serving static files from any directory\n",
    "\n",
    "To serve current folder\n",
    "\n",
    "```sh\n",
    "ruby -run -e httpd .\n",
    "```\n",
    "\n",
    "You can also specify a port number\n",
    "\n",
    "```sh\n",
    "ruby -run -e httpd . -p 8123\n",
    "```\n",
    "\n",
    "You can also specify path of the folder\n",
    "\n",
    "```sh\n",
    "ruby -run -e httpd ~/Downloads\n",
    "```"
   ]
  },
  {
   "cell_type": "markdown",
   "metadata": {},
   "source": [
    "Once you start the server with above command, the output will show you URL that you can visit to see your files and folders. \n",
    "\n",
    "```log\n",
    "[2024-05-15 18:54:41] INFO  WEBrick 1.8.1\n",
    "[2024-05-15 18:54:41] INFO  ruby 3.3.0 (2023-12-25) [arm64-darwin23]\n",
    "[2024-05-15 18:54:41] INFO  WEBrick::HTTPServer#start: pid=24921 port=8090\n",
    "[2024-05-15 18:54:41] INFO  To access this server, open this URL in a browser:\n",
    "[2024-05-15 18:54:41] INFO      http://[::1]:8090\n",
    "[2024-05-15 18:54:41] INFO      http://127.0.0.1:8090\n",
    "```"
   ]
  },
  {
   "cell_type": "markdown",
   "metadata": {},
   "source": [
    "## 💎 Day 1 - Get the latest Programmer Humor meme\n",
    "\n",
    "> This small tiny program will fetch the latest meme from eveyone's benoloved meme community [ProgrammerHumor](https://programmerhumor.io/)\n",
    "\n",
    "You may want to ensure that we have `nokogiri` available. This can be done through Ruby's dependency manager [Bundler](https://bundler.io/).\n",
    "\n",
    "```sh\n",
    "bundle i\n",
    "```"
   ]
  },
  {
   "cell_type": "code",
   "execution_count": 2,
   "metadata": {},
   "outputs": [
    {
     "data": {
      "text/html": [
       "<img src=\"https://programmerhumor.io/wp-content/uploads/2024/05/programmerhumor-io-programming-memes-7050406b92cdfb5.jpe\" />"
      ],
      "text/plain": [
       "\"<img src=\\\"https://programmerhumor.io/wp-content/uploads/2024/05/programmerhumor-io-programming-memes-7050406b92cdfb5.jpe\\\" />\""
      ]
     },
     "execution_count": 2,
     "metadata": {},
     "output_type": "execute_result"
    }
   ],
   "source": [
    "require 'open-uri'\n",
    "require 'nokogiri'\n",
    "\n",
    "# Fetch and parse the HTML document\n",
    "doc = Nokogiri::HTML(URI.open('https://programmerhumor.io/'))\n",
    "\n",
    "# Find the first <img> tag inside the first <div> with class 'entry-featured-media'\n",
    "img_tag = doc.at_css('.entry-featured-media img')\n",
    "\n",
    "# Output the result as an image on Jupyter Notebook\n",
    "IRuby.html(%(<img src=\"#{img_tag['data-src']}\" />))"
   ]
  },
  {
   "cell_type": "markdown",
   "metadata": {},
   "source": [
    "# 💎 Day 2 - One line method definition\n",
    "\n",
    "> Also known as endless method definition 🍳\n",
    "\n",
    "Ensure that you have latest Ruby version. I tried this on Ruby 3.3.1 🔥"
   ]
  },
  {
   "cell_type": "code",
   "execution_count": 3,
   "metadata": {},
   "outputs": [
    {
     "data": {
      "text/plain": [
       "2.00515"
      ]
     },
     "execution_count": 3,
     "metadata": {},
     "output_type": "execute_result"
    }
   ],
   "source": [
    "class Timekeeper\n",
    "  def start = @start = Time.now\n",
    "  def end = @end = Time.now\n",
    "  def duration = @end - @start\n",
    "end\n",
    "\n",
    "tk = Timekeeper.new\n",
    "tk.start\n",
    "sleep 2\n",
    "tk.end\n",
    "tk.duration"
   ]
  }
 ],
 "metadata": {
  "kernelspec": {
   "display_name": "Ruby 3.3.1",
   "language": "ruby",
   "name": "ruby"
  },
  "language_info": {
   "file_extension": ".rb",
   "mimetype": "application/x-ruby",
   "name": "ruby",
   "version": "3.3.1"
  }
 },
 "nbformat": 4,
 "nbformat_minor": 4
}
